{
 "cells": [
  {
   "cell_type": "code",
   "execution_count": 2,
   "metadata": {
    "collapsed": false
   },
   "outputs": [],
   "source": [
    "%matplotlib inline\n",
    "import graphlab\n",
    "import graphlab.aggregate as agg\n",
    "import numpy as np\n",
    "import matplotlib.pyplot as plt  \n",
    "import string\n",
    "from nltk import PorterStemmer\n",
    "from nltk.tokenize import RegexpTokenizer\n",
    "from bs4 import BeautifulSoup\n",
    "from nltk.corpus import stopwords\n",
    "\n",
    "stemmer = PorterStemmer()\n",
    "\n",
    "plt.style.use('ggplot')"
   ]
  },
  {
   "cell_type": "code",
   "execution_count": 103,
   "metadata": {
    "collapsed": false
   },
   "outputs": [
    {
     "data": {
      "text/plain": [
       "2112"
      ]
     },
     "execution_count": 103,
     "metadata": {},
     "output_type": "execute_result"
    }
   ],
   "source": [
    "sf = graphlab.SFrame('./data/boardgames-no-comments')\n",
    "sf.remove_columns(['age', 'average', 'bayesaverage', 'maxplayers', 'maxplaytime', 'minplayers', 'minplaytime', 'owned', 'playingtime', 'stddev', 'trading', 'wanting', 'wishing', 'yearpublished'])\n",
    "sf = sf[sf['usersrated'] > 500]# sf = sf['Expansion for Base-game' not in sf['categories']]\n",
    "sf['categories'] = sf[['categories']].apply(lambda x: {w: 1 for w in x['categories']})\n",
    "sf['mechanics'] = sf[['mechanics']].apply(lambda x: {w: 1 for w in x['mechanics']})\n",
    "sf['subdomains'] = sf[['subdomains']].apply(lambda x: {w: 1 for w in x['subdomains']})\n",
    "sf = sf[sf.apply(lambda x: 'Expansion for Base-game' not in x['categories'])]\n",
    "len(sf)"
   ]
  },
  {
   "cell_type": "code",
   "execution_count": 104,
   "metadata": {
    "collapsed": false
   },
   "outputs": [],
   "source": [
    "categories = graphlab.SFrame()\n",
    "categories['name'] = set().union(*sf[['categories']].unstack('categories')[0]['List of categories'])"
   ]
  },
  {
   "cell_type": "code",
   "execution_count": 105,
   "metadata": {
    "collapsed": false
   },
   "outputs": [],
   "source": [
    "subdomains = graphlab.SFrame()\n",
    "subdomains['name'] = set().union(*sf[['subdomains']].unstack('subdomains')[0]['List of subdomains'])"
   ]
  },
  {
   "cell_type": "code",
   "execution_count": 106,
   "metadata": {
    "collapsed": false
   },
   "outputs": [
    {
     "data": {
      "text/html": [
       "<div style=\"max-height:1000px;max-width:1500px;overflow:auto;\"><table frame=\"box\" rules=\"cols\">\n",
       "    <tr>\n",
       "        <th style=\"padding-left: 1em; padding-right: 1em; text-align: center\">name</th>\n",
       "    </tr>\n",
       "    <tr>\n",
       "        <td style=\"padding-left: 1em; padding-right: 1em; text-align: center; vertical-align: top\">Card Drafting</td>\n",
       "    </tr>\n",
       "    <tr>\n",
       "        <td style=\"padding-left: 1em; padding-right: 1em; text-align: center; vertical-align: top\">Hand Management</td>\n",
       "    </tr>\n",
       "    <tr>\n",
       "        <td style=\"padding-left: 1em; padding-right: 1em; text-align: center; vertical-align: top\">Grid Movement</td>\n",
       "    </tr>\n",
       "    <tr>\n",
       "        <td style=\"padding-left: 1em; padding-right: 1em; text-align: center; vertical-align: top\">Modular Board</td>\n",
       "    </tr>\n",
       "    <tr>\n",
       "        <td style=\"padding-left: 1em; padding-right: 1em; text-align: center; vertical-align: top\">Line Drawing</td>\n",
       "    </tr>\n",
       "    <tr>\n",
       "        <td style=\"padding-left: 1em; padding-right: 1em; text-align: center; vertical-align: top\">Acting</td>\n",
       "    </tr>\n",
       "    <tr>\n",
       "        <td style=\"padding-left: 1em; padding-right: 1em; text-align: center; vertical-align: top\">Time Track</td>\n",
       "    </tr>\n",
       "    <tr>\n",
       "        <td style=\"padding-left: 1em; padding-right: 1em; text-align: center; vertical-align: top\">Rock-Paper-Scissors</td>\n",
       "    </tr>\n",
       "    <tr>\n",
       "        <td style=\"padding-left: 1em; padding-right: 1em; text-align: center; vertical-align: top\">Memory</td>\n",
       "    </tr>\n",
       "    <tr>\n",
       "        <td style=\"padding-left: 1em; padding-right: 1em; text-align: center; vertical-align: top\">Trick-taking</td>\n",
       "    </tr>\n",
       "</table>\n",
       "[10 rows x 1 columns]<br/>\n",
       "</div>"
      ],
      "text/plain": [
       "Columns:\n",
       "\tname\tstr\n",
       "\n",
       "Rows: 10\n",
       "\n",
       "Data:\n",
       "+---------------------+\n",
       "|         name        |\n",
       "+---------------------+\n",
       "|    Card Drafting    |\n",
       "|   Hand Management   |\n",
       "|    Grid Movement    |\n",
       "|    Modular Board    |\n",
       "|     Line Drawing    |\n",
       "|        Acting       |\n",
       "|      Time Track     |\n",
       "| Rock-Paper-Scissors |\n",
       "|        Memory       |\n",
       "|     Trick-taking    |\n",
       "+---------------------+\n",
       "[10 rows x 1 columns]"
      ]
     },
     "execution_count": 106,
     "metadata": {},
     "output_type": "execute_result"
    }
   ],
   "source": [
    "mechanics = graphlab.SFrame()\n",
    "mechanics['name'] = set().union(*sf[['mechanics']].unstack('mechanics')[0]['List of mechanics'])\n",
    "mechanics.head()"
   ]
  },
  {
   "cell_type": "code",
   "execution_count": null,
   "metadata": {
    "collapsed": false
   },
   "outputs": [],
   "source": []
  },
  {
   "cell_type": "code",
   "execution_count": null,
   "metadata": {
    "collapsed": false
   },
   "outputs": [],
   "source": []
  },
  {
   "cell_type": "code",
   "execution_count": 107,
   "metadata": {
    "collapsed": false
   },
   "outputs": [
    {
     "name": "stdout",
     "output_type": "stream",
     "text": [
      "PROGRESS: Learning a topic model\n",
      "PROGRESS:        Number of documents      2112\n",
      "PROGRESS:            Vocabulary size        82\n",
      "PROGRESS:    Running collapsed Gibbs sampling\n",
      "PROGRESS: +-----------+---------------+----------------+-----------------+\n",
      "PROGRESS: | Iteration | Elapsed Time  | Tokens/Second  | Est. Perplexity |\n",
      "PROGRESS: +-----------+---------------+----------------+-----------------+\n",
      "PROGRESS: | 10        | 15.632ms      | 6.01534e+006   | 0               |\n",
      "PROGRESS: | 20        | 31.281ms      | 2.99847e+006   | 0               |\n",
      "PROGRESS: | 30        | 45.938ms      | 6.01534e+006   | 0               |\n",
      "PROGRESS: | 40        | 59.625ms      | 6.02149e+006   | 0               |\n",
      "PROGRESS: | 50        | 73.311ms      | 6.02766e+006   | 0               |\n",
      "PROGRESS: | 60        | 86.999ms      | 3.00613e+006   | 0               |\n",
      "PROGRESS: | 70        | 99.707ms      | 6.02149e+006   | 0               |\n",
      "PROGRESS: | 80        | 113.394ms     | 3.00767e+006   | 0               |\n",
      "PROGRESS: | 90        | 126.103ms     | 6.01534e+006   | 0               |\n",
      "PROGRESS: | 100       | 138.812ms     | 6.00919e+006   | 0               |\n",
      "PROGRESS: +-----------+---------------+----------------+-----------------+\n"
     ]
    }
   ],
   "source": [
    "model = graphlab.topic_model.create(sf['categories'], num_topics=10, num_iterations=100)"
   ]
  },
  {
   "cell_type": "code",
   "execution_count": 108,
   "metadata": {
    "collapsed": false
   },
   "outputs": [],
   "source": [
    "sf['category_topic']= model.predict(sf['categories'])"
   ]
  },
  {
   "cell_type": "code",
   "execution_count": 109,
   "metadata": {
    "collapsed": false
   },
   "outputs": [],
   "source": [
    "sf.select_columns(['name', 'description', 'categories', 'category_topic']).save('./topics.csv', 'csv')"
   ]
  },
  {
   "cell_type": "code",
   "execution_count": 112,
   "metadata": {
    "collapsed": false
   },
   "outputs": [
    {
     "name": "stdout",
     "output_type": "stream",
     "text": [
      "+-------+---------------------------+-----------------+\n",
      "| topic |            word           |      score      |\n",
      "+-------+---------------------------+-----------------+\n",
      "|   0   |         Party Game        |  0.237943737441 |\n",
      "|   0   |          Bluffing         |  0.202779638312 |\n",
      "|   0   |           Humor           |  0.16259209645  |\n",
      "|   0   |     Territory Building    |  0.137474882786 |\n",
      "|   0   |           Trivia          | 0.0504018754186 |\n",
      "|   1   |          Medieval         |  0.223847212663 |\n",
      "|   1   |       City Building       |  0.170509291122 |\n",
      "|   1   |          Nautical         |  0.094803854095 |\n",
      "|   1   |           Racing          | 0.0775980729525 |\n",
      "|   1   |        Renaissance        | 0.0707157604955 |\n",
      "|   2   |          Economic         |  0.433091939547 |\n",
      "|   2   |        Negotiation        |  0.141845088161 |\n",
      "|   2   |        Civilization       | 0.0883186397985 |\n",
      "|   2   |       Transportation      | 0.0662783375315 |\n",
      "|   2   |  Industry / Manufacturing | 0.0662783375315 |\n",
      "|   3   |         Card Game         |  0.27656137832  |\n",
      "|   3   |          Ancient          |  0.145549174444 |\n",
      "|   3   |          Fantasy          | 0.0719669777459 |\n",
      "|   3   |   Collectible Components  | 0.0647882268485 |\n",
      "|   3   |        Civilization       | 0.0647882268485 |\n",
      "|   4   |         Card Game         |  0.260079973342 |\n",
      "|   4   |          Animals          |  0.191769410197 |\n",
      "|   4   |      Children's Game      |  0.126791069643 |\n",
      "|   4   |     Action / Dexterity    |  0.111796067977 |\n",
      "|   4   |            Dice           |  0.066811062979 |\n",
      "|   5   |         Card Game         |  0.43278179938  |\n",
      "|   5   |         Deduction         |  0.17080317132  |\n",
      "|   5   |     Abstract Strategy     |  0.134608755602 |\n",
      "|   5   |       Murder/Mystery      | 0.0518786625302 |\n",
      "|   5   |     Aviation / Flight     | 0.0415374008962 |\n",
      "|   6   |          Wargame          |  0.386325643597 |\n",
      "|   6   |         Political         |  0.153961885657 |\n",
      "|   6   |        World War II       |  0.127214978268 |\n",
      "|   6   |          Fantasy          |  0.105483116015 |\n",
      "|   6   |        Renaissance        | 0.0369441658308 |\n",
      "|   7   |          Fighting         |  0.324647656506 |\n",
      "|   7   |         Miniatures        |  0.167322189446 |\n",
      "|   7   |      Science Fiction      |  0.100131104556 |\n",
      "|   7   |            Dice           | 0.0526057030482 |\n",
      "|   7   |           Horror          | 0.0493280891511 |\n",
      "|   8   |          Fantasy          |  0.301035263669 |\n",
      "|   8   |        Exploration        |  0.174862504044 |\n",
      "|   8   |         Adventure         |  0.123099320608 |\n",
      "|   8   |        Novel-based        |  0.10368812682  |\n",
      "|   8   |           Horror          | 0.0745713361372 |\n",
      "|   9   |      Science Fiction      |  0.209638964578 |\n",
      "|   9   |         Adventure         |  0.129598092643 |\n",
      "|   9   |            Dice           |  0.10235013624  |\n",
      "|   9   | Movies / TV / Radio theme | 0.0887261580381 |\n",
      "|   9   |           Racing          | 0.0665871934605 |\n",
      "+-------+---------------------------+-----------------+\n",
      "[50 rows x 3 columns]\n",
      "\n"
     ]
    }
   ],
   "source": [
    "model.get_topics().print_rows(500)"
   ]
  },
  {
   "cell_type": "code",
   "execution_count": null,
   "metadata": {
    "collapsed": false
   },
   "outputs": [],
   "source": []
  },
  {
   "cell_type": "code",
   "execution_count": null,
   "metadata": {
    "collapsed": true
   },
   "outputs": [],
   "source": []
  },
  {
   "cell_type": "code",
   "execution_count": null,
   "metadata": {
    "collapsed": false
   },
   "outputs": [],
   "source": []
  },
  {
   "cell_type": "code",
   "execution_count": null,
   "metadata": {
    "collapsed": false
   },
   "outputs": [],
   "source": []
  },
  {
   "cell_type": "code",
   "execution_count": null,
   "metadata": {
    "collapsed": false
   },
   "outputs": [],
   "source": []
  },
  {
   "cell_type": "code",
   "execution_count": null,
   "metadata": {
    "collapsed": false
   },
   "outputs": [],
   "source": []
  }
 ],
 "metadata": {
  "kernelspec": {
   "display_name": "Python 2",
   "language": "python",
   "name": "python2"
  },
  "language_info": {
   "codemirror_mode": {
    "name": "ipython",
    "version": 2
   },
   "file_extension": ".py",
   "mimetype": "text/x-python",
   "name": "python",
   "nbconvert_exporter": "python",
   "pygments_lexer": "ipython2",
   "version": "2.7.9"
  }
 },
 "nbformat": 4,
 "nbformat_minor": 0
}
