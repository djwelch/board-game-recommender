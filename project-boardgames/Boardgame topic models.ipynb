{
 "cells": [
  {
   "cell_type": "code",
   "execution_count": 1,
   "metadata": {
    "collapsed": false
   },
   "outputs": [],
   "source": [
    "%matplotlib inline\n",
    "import graphlab\n",
    "import graphlab.aggregate as agg\n",
    "import numpy as np\n",
    "import matplotlib.pyplot as plt  \n",
    "import string\n",
    "from nltk import PorterStemmer\n",
    "from nltk.tokenize import RegexpTokenizer\n",
    "from bs4 import BeautifulSoup\n",
    "from nltk.corpus import stopwords\n",
    "\n",
    "stemmer = PorterStemmer()\n",
    "\n",
    "plt.style.use('ggplot')"
   ]
  },
  {
   "cell_type": "code",
   "execution_count": 3,
   "metadata": {
    "collapsed": false
   },
   "outputs": [
    {
     "name": "stderr",
     "output_type": "stream",
     "text": [
      "[INFO] This non-commercial license of GraphLab Create is assigned to djwelch666@googlemail.comand will expire on September 24, 2016. For commercial licensing options, visit https://dato.com/buy/.\n",
      "\n",
      "[INFO] Start server at: ipc:///tmp/graphlab_server-12728 - Server binary: c:\\users\\david\\.virtualenvs\\py\\lib\\site-packages\\graphlab\\unity_server.exe - Server log: C:\\Users\\David\\AppData\\Local\\Temp\\graphlab_server_1445597723.log.0\n",
      "[INFO] GraphLab Server Version: 1.6.1\n"
     ]
    },
    {
     "data": {
      "text/html": [
       "<div style=\"max-height:1000px;max-width:1500px;overflow:auto;\"><table frame=\"box\" rules=\"cols\">\n",
       "    <tr>\n",
       "        <th style=\"padding-left: 1em; padding-right: 1em; text-align: center\">description</th>\n",
       "        <th style=\"padding-left: 1em; padding-right: 1em; text-align: center\">id</th>\n",
       "        <th style=\"padding-left: 1em; padding-right: 1em; text-align: center\">name</th>\n",
       "        <th style=\"padding-left: 1em; padding-right: 1em; text-align: center\">usersrated</th>\n",
       "    </tr>\n",
       "    <tr>\n",
       "        <td style=\"padding-left: 1em; padding-right: 1em; text-align: center; vertical-align: top\">Marjapussi (Berry bag) is<br>a marriage-style trick- ...</td>\n",
       "        <td style=\"padding-left: 1em; padding-right: 1em; text-align: center; vertical-align: top\">26721</td>\n",
       "        <td style=\"padding-left: 1em; padding-right: 1em; text-align: center; vertical-align: top\">Marjapussi</td>\n",
       "        <td style=\"padding-left: 1em; padding-right: 1em; text-align: center; vertical-align: top\">13</td>\n",
       "    </tr>\n",
       "</table>\n",
       "[1 rows x 4 columns]<br/>\n",
       "</div>"
      ],
      "text/plain": [
       "Columns:\n",
       "\tdescription\tstr\n",
       "\tid\tint\n",
       "\tname\tstr\n",
       "\tusersrated\tint\n",
       "\n",
       "Rows: 1\n",
       "\n",
       "Data:\n",
       "+-------------------------------+-------+------------+------------+\n",
       "|          description          |   id  |    name    | usersrated |\n",
       "+-------------------------------+-------+------------+------------+\n",
       "| Marjapussi (Berry bag) is ... | 26721 | Marjapussi |     13     |\n",
       "+-------------------------------+-------+------------+------------+\n",
       "[1 rows x 4 columns]"
      ]
     },
     "execution_count": 3,
     "metadata": {},
     "output_type": "execute_result"
    }
   ],
   "source": [
    "sf = graphlab.SFrame('./data/boardgames-no-comments')\n",
    "sf.remove_columns(['age', 'average', 'bayesaverage', 'categories', 'maxplayers', 'maxplaytime', 'mechanics', 'minplayers', 'minplaytime', 'owned', 'playingtime', 'stddev', 'subdomains', 'trading', 'wanting', 'wishing', 'yearpublished'])\n",
    "sf = sf[sf['usersrated'] > 10]\n",
    "sf.head(1)"
   ]
  },
  {
   "cell_type": "code",
   "execution_count": null,
   "metadata": {
    "collapsed": false
   },
   "outputs": [],
   "source": []
  },
  {
   "cell_type": "code",
   "execution_count": 4,
   "metadata": {
    "collapsed": false
   },
   "outputs": [],
   "source": [
    "tokenizer = RegexpTokenizer(r'[a-zA-Z]+')\n",
    "def accept(w):\n",
    "    return len(w) > 2 and w not in graphlab.text_analytics.stopwords()\n",
    "sf['text'] = sf.select_column('description').apply(lambda x: ' '.join([stemmer.stem(w) for w in tokenizer.tokenize(BeautifulSoup(x.lower(), 'html.parser').get_text(strip=True)) if accept(w)]))"
   ]
  },
  {
   "cell_type": "code",
   "execution_count": 5,
   "metadata": {
    "collapsed": false
   },
   "outputs": [],
   "source": [
    "sf['word_count'] = graphlab.text_analytics.count_words(sf['text'])\n",
    "sf['tfidf'] = graphlab.text_analytics.tf_idf(sf['word_count'])['docs']"
   ]
  },
  {
   "cell_type": "code",
   "execution_count": 11,
   "metadata": {
    "collapsed": false
   },
   "outputs": [],
   "source": [
    "tfidfs = sf[['tfidf']].stack('tfidf', new_column_name=['word','count'], drop_na=True)"
   ]
  },
  {
   "cell_type": "code",
   "execution_count": null,
   "metadata": {
    "collapsed": false
   },
   "outputs": [],
   "source": [
    "tfidfs.groupby(key_columns='word', operations={'count2': agg.MAX('count')}).sort('count2', ascending=True).print_rows(200)"
   ]
  },
  {
   "cell_type": "code",
   "execution_count": 6,
   "metadata": {
    "collapsed": false
   },
   "outputs": [
    {
     "name": "stdout",
     "output_type": "stream",
     "text": [
      "PROGRESS: Learning a topic model\n",
      "PROGRESS:        Number of documents     21743\n",
      "PROGRESS:            Vocabulary size     53683\n",
      "PROGRESS:    Initializing topic assignments\n",
      "PROGRESS:    Constructed alias samplers:0.199429s\n",
      "PROGRESS:    Using 1 blocks.\n",
      "PROGRESS: +-----------+---------------+----------------+-----------------+-------------------+\n",
      "PROGRESS: | Iteration | Elapsed Time  | Tokens/Second  | Est. Perplexity | Elapsed for perp. |\n",
      "PROGRESS: +-----------+---------------+----------------+-----------------+-------------------+\n",
      "PROGRESS: | 10        | 3.78s         | 4.93842e+006   | 0               | 0                 |\n",
      "PROGRESS: | 20        | 7.14s         | 5.14667e+006   | 0               | 0                 |\n",
      "PROGRESS: | 30        | 10.41s        | 5.02557e+006   | 0               | 0                 |\n",
      "PROGRESS: | 40        | 13.74s        | 4.9816e+006    | 0               | 0                 |\n",
      "PROGRESS: | 50        | 16.91s        | 5.25754e+006   | 0               | 0                 |\n",
      "PROGRESS: | 60        | 20.12s        | 5.3065e+006    | 0               | 0                 |\n",
      "PROGRESS: | 70        | 23.38s        | 5.1625e+006    | 0               | 0                 |\n",
      "PROGRESS: | 80        | 26.56s        | 5.27404e+006   | 0               | 0                 |\n",
      "PROGRESS: | 90        | 29.85s        | 4.77289e+006   | 0               | 0                 |\n",
      "PROGRESS: | 100       | 33.10s        | 5.29007e+006   | 0               | 0                 |\n",
      "PROGRESS: +-----------+---------------+----------------+-----------------+-------------------+\n"
     ]
    }
   ],
   "source": [
    "model = graphlab.topic_model.create(sf['word_count'], num_topics=5, num_iterations=100, method='alias')"
   ]
  },
  {
   "cell_type": "code",
   "execution_count": 7,
   "metadata": {
    "collapsed": false
   },
   "outputs": [
    {
     "name": "stdout",
     "output_type": "stream",
     "text": [
      "Class                         : TopicModel\n",
      "\n",
      "Schema\n",
      "------\n",
      "Vocabulary Size               : 53683\n",
      "Topic Size                    : 53683\n",
      "\n",
      "Settings\n",
      "--------\n",
      "Number of Topics              : 5\n",
      "alpha                         : 10.0\n",
      "beta                          : 0.1\n",
      "Iterations                    : 100\n",
      "Training time                 : 34.104\n",
      "Verbose                       : False\n",
      "\n",
      "Accessible fields             : \n",
      "m['topics']                   : An SFrame containing the topics.\n",
      "m['vocabulary']               : An SArray containing the words in the vocabulary.\n",
      "Useful methods                : \n",
      "m.get_topics()                : Get the most probable words per topic.\n",
      "m.predict(new_docs)           : Make predictions for new documents.\n"
     ]
    }
   ],
   "source": [
    "model.summary()"
   ]
  },
  {
   "cell_type": "code",
   "execution_count": 8,
   "metadata": {
    "collapsed": false
   },
   "outputs": [
    {
     "name": "stdout",
     "output_type": "stream",
     "text": [
      "+-------+---------+------------------+\n",
      "| topic |   word  |      score       |\n",
      "+-------+---------+------------------+\n",
      "|   0   |   game  | 0.0953980165261  |\n",
      "|   0   |   play  | 0.0195153281091  |\n",
      "|   0   |   time  |  0.012651598789  |\n",
      "|   0   | victori | 0.00879427050664 |\n",
      "|   0   |   edit  | 0.0080903784843  |\n",
      "|   1   |  player |  0.047645218611  |\n",
      "|   1   |  board  | 0.0303167017167  |\n",
      "|   1   |   tile  | 0.0204664481291  |\n",
      "|   1   |   move  | 0.0199332629939  |\n",
      "|   1   |  build  | 0.0182790219334  |\n",
      "|   2   |   game  | 0.0284588823084  |\n",
      "|   2   |  power  | 0.0120060317398  |\n",
      "|   2   | charact |  0.010081380663  |\n",
      "|   2   |  expans | 0.00953314671993 |\n",
      "|   2   |   set   | 0.00843376269576 |\n",
      "|   3   |   card  |  0.106605932915  |\n",
      "|   3   |  player | 0.0948037998154  |\n",
      "|   3   |   play  | 0.0342006960134  |\n",
      "|   3   |  point  | 0.0270936520914  |\n",
      "|   3   |   game  | 0.0223903403405  |\n",
      "|   4   |  battl  |  0.019666987404  |\n",
      "|   4   |   war   | 0.0172350524694  |\n",
      "|   4   |   rule  | 0.0170292316954  |\n",
      "|   4   |  includ |  0.01643072655   |\n",
      "|   4   |   unit  |  0.013365080285  |\n",
      "+-------+---------+------------------+\n",
      "[25 rows x 3 columns]\n",
      "\n"
     ]
    }
   ],
   "source": [
    "model.get_topics().print_rows(50)"
   ]
  },
  {
   "cell_type": "code",
   "execution_count": 9,
   "metadata": {
    "collapsed": false
   },
   "outputs": [
    {
     "name": "stdout",
     "output_type": "stream",
     "text": [
      "Canvas is accessible via web browser at the URL: http://localhost:45986/index.html\n",
      "Opening Canvas in default web browser.\n"
     ]
    }
   ],
   "source": [
    "model.show()"
   ]
  },
  {
   "cell_type": "code",
   "execution_count": null,
   "metadata": {
    "collapsed": false
   },
   "outputs": [],
   "source": []
  },
  {
   "cell_type": "code",
   "execution_count": null,
   "metadata": {
    "collapsed": true
   },
   "outputs": [],
   "source": []
  },
  {
   "cell_type": "code",
   "execution_count": null,
   "metadata": {
    "collapsed": false
   },
   "outputs": [],
   "source": []
  },
  {
   "cell_type": "code",
   "execution_count": null,
   "metadata": {
    "collapsed": false
   },
   "outputs": [],
   "source": []
  },
  {
   "cell_type": "code",
   "execution_count": null,
   "metadata": {
    "collapsed": false
   },
   "outputs": [],
   "source": []
  },
  {
   "cell_type": "code",
   "execution_count": null,
   "metadata": {
    "collapsed": false
   },
   "outputs": [],
   "source": []
  }
 ],
 "metadata": {
  "kernelspec": {
   "display_name": "Python 2",
   "language": "python",
   "name": "python2"
  },
  "language_info": {
   "codemirror_mode": {
    "name": "ipython",
    "version": 2
   },
   "file_extension": ".py",
   "mimetype": "text/x-python",
   "name": "python",
   "nbconvert_exporter": "python",
   "pygments_lexer": "ipython2",
   "version": "2.7.9"
  }
 },
 "nbformat": 4,
 "nbformat_minor": 0
}
