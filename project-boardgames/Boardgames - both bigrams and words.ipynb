{
 "cells": [
  {
   "cell_type": "code",
   "execution_count": 1,
   "metadata": {
    "collapsed": false
   },
   "outputs": [],
   "source": [
    "%matplotlib inline\n",
    "import graphlab\n",
    "import graphlab.aggregate as agg\n",
    "import numpy as np\n",
    "import matplotlib.pyplot as plt  \n",
    "import string\n",
    "import re\n",
    "from stemming.porter2 import stem\n",
    "\n",
    "stopwords = graphlab.text_analytics.stopwords()\n",
    "\n",
    "plt.style.use('ggplot')"
   ]
  },
  {
   "cell_type": "code",
   "execution_count": null,
   "metadata": {
    "collapsed": false
   },
   "outputs": [],
   "source": []
  },
  {
   "cell_type": "code",
   "execution_count": 2,
   "metadata": {
    "collapsed": false
   },
   "outputs": [
    {
     "name": "stderr",
     "output_type": "stream",
     "text": [
      "[INFO] This non-commercial license of GraphLab Create is assigned to djwelch666@googlemail.comand will expire on September 24, 2016. For commercial licensing options, visit https://dato.com/buy/.\n",
      "\n",
      "[INFO] Start server at: ipc:///tmp/graphlab_server-46360 - Server binary: c:\\users\\david\\.virtualenvs\\py\\lib\\site-packages\\graphlab\\unity_server.exe - Server log: C:\\Users\\David\\AppData\\Local\\Temp\\graphlab_server_1443554175.log.0\n",
      "[INFO] GraphLab Server Version: 1.6.1\n"
     ]
    }
   ],
   "source": [
    "sf = graphlab.SFrame('./data/boardgames-comments')"
   ]
  },
  {
   "cell_type": "code",
   "execution_count": 3,
   "metadata": {
    "collapsed": false
   },
   "outputs": [
    {
     "data": {
      "text/html": [
       "<div style=\"max-height:1000px;max-width:1500px;overflow:auto;\"><table frame=\"box\" rules=\"cols\">\n",
       "    <tr>\n",
       "        <th style=\"padding-left: 1em; padding-right: 1em; text-align: center\">boardgameid</th>\n",
       "        <th style=\"padding-left: 1em; padding-right: 1em; text-align: center\">text</th>\n",
       "        <th style=\"padding-left: 1em; padding-right: 1em; text-align: center\">username</th>\n",
       "        <th style=\"padding-left: 1em; padding-right: 1em; text-align: center\">rating</th>\n",
       "    </tr>\n",
       "    <tr>\n",
       "        <td style=\"padding-left: 1em; padding-right: 1em; text-align: center; vertical-align: top\">26717</td>\n",
       "        <td style=\"padding-left: 1em; padding-right: 1em; text-align: center; vertical-align: top\">Fascinating approach to<br>the different technology ...</td>\n",
       "        <td style=\"padding-left: 1em; padding-right: 1em; text-align: center; vertical-align: top\">armyduck95</td>\n",
       "        <td style=\"padding-left: 1em; padding-right: 1em; text-align: center; vertical-align: top\">7.0</td>\n",
       "    </tr>\n",
       "    <tr>\n",
       "        <td style=\"padding-left: 1em; padding-right: 1em; text-align: center; vertical-align: top\">26717</td>\n",
       "        <td style=\"padding-left: 1em; padding-right: 1em; text-align: center; vertical-align: top\">In this modern version,<br>Tech Level differenti ...</td>\n",
       "        <td style=\"padding-left: 1em; padding-right: 1em; text-align: center; vertical-align: top\">hnishy63</td>\n",
       "        <td style=\"padding-left: 1em; padding-right: 1em; text-align: center; vertical-align: top\">6.0</td>\n",
       "    </tr>\n",
       "    <tr>\n",
       "        <td style=\"padding-left: 1em; padding-right: 1em; text-align: center; vertical-align: top\">26717</td>\n",
       "        <td style=\"padding-left: 1em; padding-right: 1em; text-align: center; vertical-align: top\">Good modern platoon level<br>rules ...</td>\n",
       "        <td style=\"padding-left: 1em; padding-right: 1em; text-align: center; vertical-align: top\">JohnHBiedenkapp</td>\n",
       "        <td style=\"padding-left: 1em; padding-right: 1em; text-align: center; vertical-align: top\">9.0</td>\n",
       "    </tr>\n",
       "    <tr>\n",
       "        <td style=\"padding-left: 1em; padding-right: 1em; text-align: center; vertical-align: top\">26718</td>\n",
       "        <td style=\"padding-left: 1em; padding-right: 1em; text-align: center; vertical-align: top\">This game is well-<br>designed for a Monopoly ...</td>\n",
       "        <td style=\"padding-left: 1em; padding-right: 1em; text-align: center; vertical-align: top\">espoon82</td>\n",
       "        <td style=\"padding-left: 1em; padding-right: 1em; text-align: center; vertical-align: top\">6.0</td>\n",
       "    </tr>\n",
       "    <tr>\n",
       "        <td style=\"padding-left: 1em; padding-right: 1em; text-align: center; vertical-align: top\">26718</td>\n",
       "        <td style=\"padding-left: 1em; padding-right: 1em; text-align: center; vertical-align: top\">I have not played this<br>version of Monopoly.  My ...</td>\n",
       "        <td style=\"padding-left: 1em; padding-right: 1em; text-align: center; vertical-align: top\">The Unbeliever</td>\n",
       "        <td style=\"padding-left: 1em; padding-right: 1em; text-align: center; vertical-align: top\">4.0</td>\n",
       "    </tr>\n",
       "    <tr>\n",
       "        <td style=\"padding-left: 1em; padding-right: 1em; text-align: center; vertical-align: top\">26721</td>\n",
       "        <td style=\"padding-left: 1em; padding-right: 1em; text-align: center; vertical-align: top\">Played in southern<br>Finland. Didn't grow up ...</td>\n",
       "        <td style=\"padding-left: 1em; padding-right: 1em; text-align: center; vertical-align: top\">Jon_Tzu</td>\n",
       "        <td style=\"padding-left: 1em; padding-right: 1em; text-align: center; vertical-align: top\">5.0</td>\n",
       "    </tr>\n",
       "    <tr>\n",
       "        <td style=\"padding-left: 1em; padding-right: 1em; text-align: center; vertical-align: top\">26721</td>\n",
       "        <td style=\"padding-left: 1em; padding-right: 1em; text-align: center; vertical-align: top\">Public Domain card game.</td>\n",
       "        <td style=\"padding-left: 1em; padding-right: 1em; text-align: center; vertical-align: top\">Nap16</td>\n",
       "        <td style=\"padding-left: 1em; padding-right: 1em; text-align: center; vertical-align: top\">4.0</td>\n",
       "    </tr>\n",
       "    <tr>\n",
       "        <td style=\"padding-left: 1em; padding-right: 1em; text-align: center; vertical-align: top\">26721</td>\n",
       "        <td style=\"padding-left: 1em; padding-right: 1em; text-align: center; vertical-align: top\">Three player Huutopussi<br>takes forever but four ...</td>\n",
       "        <td style=\"padding-left: 1em; padding-right: 1em; text-align: center; vertical-align: top\">oskari</td>\n",
       "        <td style=\"padding-left: 1em; padding-right: 1em; text-align: center; vertical-align: top\">6.0</td>\n",
       "    </tr>\n",
       "    <tr>\n",
       "        <td style=\"padding-left: 1em; padding-right: 1em; text-align: center; vertical-align: top\">26721</td>\n",
       "        <td style=\"padding-left: 1em; padding-right: 1em; text-align: center; vertical-align: top\">To quote a phrase used by<br>card historian David ...</td>\n",
       "        <td style=\"padding-left: 1em; padding-right: 1em; text-align: center; vertical-align: top\">sundaysilence</td>\n",
       "        <td style=\"padding-left: 1em; padding-right: 1em; text-align: center; vertical-align: top\">6.0</td>\n",
       "    </tr>\n",
       "    <tr>\n",
       "        <td style=\"padding-left: 1em; padding-right: 1em; text-align: center; vertical-align: top\">26722</td>\n",
       "        <td style=\"padding-left: 1em; padding-right: 1em; text-align: center; vertical-align: top\">Playing a game with 6<br>people, so have two ...</td>\n",
       "        <td style=\"padding-left: 1em; padding-right: 1em; text-align: center; vertical-align: top\">Insane Foxx</td>\n",
       "        <td style=\"padding-left: 1em; padding-right: 1em; text-align: center; vertical-align: top\">9.0</td>\n",
       "    </tr>\n",
       "</table>\n",
       "[620273 rows x 4 columns]<br/>Note: Only the head of the SFrame is printed.<br/>You can use print_rows(num_rows=m, num_columns=n) to print more rows and columns.\n",
       "</div>"
      ],
      "text/plain": [
       "Columns:\n",
       "\tboardgameid\tint\n",
       "\ttext\tstr\n",
       "\tusername\tstr\n",
       "\trating\tfloat\n",
       "\n",
       "Rows: 620273\n",
       "\n",
       "Data:\n",
       "+-------------+-------------------------------+-----------------+--------+\n",
       "| boardgameid |              text             |     username    | rating |\n",
       "+-------------+-------------------------------+-----------------+--------+\n",
       "|    26717    | Fascinating approach to th... |    armyduck95   |  7.0   |\n",
       "|    26717    | In this modern version, Te... |     hnishy63    |  6.0   |\n",
       "|    26717    | Good modern platoon level ... | JohnHBiedenkapp |  9.0   |\n",
       "|    26718    | This game is well-designed... |     espoon82    |  6.0   |\n",
       "|    26718    | I have not played this ver... |  The Unbeliever |  4.0   |\n",
       "|    26721    | Played in southern Finland... |     Jon_Tzu     |  5.0   |\n",
       "|    26721    |    Public Domain card game.   |      Nap16      |  4.0   |\n",
       "|    26721    | Three player Huutopussi ta... |      oskari     |  6.0   |\n",
       "|    26721    | To quote a phrase used by ... |  sundaysilence  |  6.0   |\n",
       "|    26722    | Playing a game with 6 peop... |   Insane Foxx   |  9.0   |\n",
       "+-------------+-------------------------------+-----------------+--------+\n",
       "[620273 rows x 4 columns]\n",
       "Note: Only the head of the SFrame is printed.\n",
       "You can use print_rows(num_rows=m, num_columns=n) to print more rows and columns."
      ]
     },
     "execution_count": 3,
     "metadata": {},
     "output_type": "execute_result"
    }
   ],
   "source": [
    "sf = sf[sf['rating'] != 'null']\n",
    "sf.add_column(sf.select_column('rating').apply(lambda x: float(x)), 'rating_float')\n",
    "sf.remove_column('rating')\n",
    "sf['rating'] = sf['rating_float']\n",
    "sf.remove_column('rating_float')"
   ]
  },
  {
   "cell_type": "code",
   "execution_count": 80,
   "metadata": {
    "collapsed": false
   },
   "outputs": [],
   "source": [
    "trimmed_text = sf['text'].apply(lambda x: re.sub(r'[^\\sA-Za-z\\P{P}]+', r' ', re.sub(r'-', r' ', x)))\n",
    "trimmed_text = trimmed_text.apply(lambda x: string.join([stem(w.lower()) for w in x.split() if w not in stopwords]))\n",
    "sf['word_count'] = graphlab.text_analytics.count_words(trimmed_text) # .dict_trim_by_keys(stopwords, exclude=True)"
   ]
  },
  {
   "cell_type": "code",
   "execution_count": 106,
   "metadata": {
    "collapsed": false
   },
   "outputs": [],
   "source": [
    "sf['sentiment'] = sf['rating'] >= 5"
   ]
  },
  {
   "cell_type": "code",
   "execution_count": 84,
   "metadata": {
    "collapsed": false
   },
   "outputs": [
    {
     "data": {
      "text/html": [
       "<div style=\"max-height:1000px;max-width:1500px;overflow:auto;\"><table frame=\"box\" rules=\"cols\">\n",
       "    <tr>\n",
       "        <th style=\"padding-left: 1em; padding-right: 1em; text-align: center\">boardgameid</th>\n",
       "        <th style=\"padding-left: 1em; padding-right: 1em; text-align: center\">text</th>\n",
       "        <th style=\"padding-left: 1em; padding-right: 1em; text-align: center\">username</th>\n",
       "        <th style=\"padding-left: 1em; padding-right: 1em; text-align: center\">rating</th>\n",
       "        <th style=\"padding-left: 1em; padding-right: 1em; text-align: center\">word_count</th>\n",
       "    </tr>\n",
       "    <tr>\n",
       "        <td style=\"padding-left: 1em; padding-right: 1em; text-align: center; vertical-align: top\">26717</td>\n",
       "        <td style=\"padding-left: 1em; padding-right: 1em; text-align: center; vertical-align: top\">Fascinating approach to<br>the different technology ...</td>\n",
       "        <td style=\"padding-left: 1em; padding-right: 1em; text-align: center; vertical-align: top\">armyduck95</td>\n",
       "        <td style=\"padding-left: 1em; padding-right: 1em; text-align: center; vertical-align: top\">7.0</td>\n",
       "        <td style=\"padding-left: 1em; padding-right: 1em; text-align: center; vertical-align: top\">{'control': 1L, 'play':<br>1L, 'centuri': 1L, 'i': ...</td>\n",
       "    </tr>\n",
       "    <tr>\n",
       "        <td style=\"padding-left: 1em; padding-right: 1em; text-align: center; vertical-align: top\">26717</td>\n",
       "        <td style=\"padding-left: 1em; padding-right: 1em; text-align: center; vertical-align: top\">In this modern version,<br>Tech Level differenti ...</td>\n",
       "        <td style=\"padding-left: 1em; padding-right: 1em; text-align: center; vertical-align: top\">hnishy63</td>\n",
       "        <td style=\"padding-left: 1em; padding-right: 1em; text-align: center; vertical-align: top\">6.0</td>\n",
       "        <td style=\"padding-left: 1em; padding-right: 1em; text-align: center; vertical-align: top\">{'rang': 1L, 'point': 1L,<br>'move': 1L, 'russian': ...</td>\n",
       "    </tr>\n",
       "</table>\n",
       "<table frame=\"box\" rules=\"cols\">\n",
       "    <tr>\n",
       "        <th style=\"padding-left: 1em; padding-right: 1em; text-align: center\">ngram_count</th>\n",
       "        <th style=\"padding-left: 1em; padding-right: 1em; text-align: center\">word_count2</th>\n",
       "        <th style=\"padding-left: 1em; padding-right: 1em; text-align: center\">sentiment</th>\n",
       "    </tr>\n",
       "    <tr>\n",
       "        <td style=\"padding-left: 1em; padding-right: 1em; text-align: center; vertical-align: top\">{'singl game': 1L, 'haven<br>t': 1L, 'control ...</td>\n",
       "        <td style=\"padding-left: 1em; padding-right: 1em; text-align: center; vertical-align: top\">{'control': 1L, 'play':<br>1L, 'i': 1L, 'warfar': ...</td>\n",
       "        <td style=\"padding-left: 1em; padding-right: 1em; text-align: center; vertical-align: top\">1</td>\n",
       "    </tr>\n",
       "    <tr>\n",
       "        <td style=\"padding-left: 1em; padding-right: 1em; text-align: center; vertical-align: top\">{'version tech': 1L, 'one<br>fire': 1L, 'time a': 1L, ...</td>\n",
       "        <td style=\"padding-left: 1em; padding-right: 1em; text-align: center; vertical-align: top\">{'rang': 1L, 'point': 1L,<br>'move': 1L, 'russian': ...</td>\n",
       "        <td style=\"padding-left: 1em; padding-right: 1em; text-align: center; vertical-align: top\">1</td>\n",
       "    </tr>\n",
       "</table>\n",
       "[2 rows x 8 columns]<br/>\n",
       "</div>"
      ],
      "text/plain": [
       "Columns:\n",
       "\tboardgameid\tint\n",
       "\ttext\tstr\n",
       "\tusername\tstr\n",
       "\trating\tfloat\n",
       "\tword_count\tdict\n",
       "\tngram_count\tdict\n",
       "\tword_count2\tdict\n",
       "\tsentiment\tint\n",
       "\n",
       "Rows: 2\n",
       "\n",
       "Data:\n",
       "+-------------+-------------------------------+------------+--------+\n",
       "| boardgameid |              text             |  username  | rating |\n",
       "+-------------+-------------------------------+------------+--------+\n",
       "|    26717    | Fascinating approach to th... | armyduck95 |  7.0   |\n",
       "|    26717    | In this modern version, Te... |  hnishy63  |  6.0   |\n",
       "+-------------+-------------------------------+------------+--------+\n",
       "+-------------------------------+-------------------------------+\n",
       "|           word_count          |          ngram_count          |\n",
       "+-------------------------------+-------------------------------+\n",
       "| {'control': 1L, 'play': 1L... | {'singl game': 1L, 'haven ... |\n",
       "| {'rang': 1L, 'point': 1L, ... | {'version tech': 1L, 'one ... |\n",
       "+-------------------------------+-------------------------------+\n",
       "+-------------------------------+-----------+\n",
       "|          word_count2          | sentiment |\n",
       "+-------------------------------+-----------+\n",
       "| {'control': 1L, 'play': 1L... |     1     |\n",
       "| {'rang': 1L, 'point': 1L, ... |     1     |\n",
       "+-------------------------------+-----------+\n",
       "[2 rows x 8 columns]"
      ]
     },
     "execution_count": 84,
     "metadata": {},
     "output_type": "execute_result"
    }
   ],
   "source": [
    "sf.head(2)"
   ]
  },
  {
   "cell_type": "code",
   "execution_count": 81,
   "metadata": {
    "collapsed": false
   },
   "outputs": [],
   "source": [
    "word_counts = {}\n",
    "for wc in sf['word_count']:\n",
    "    for key, value in wc.items():\n",
    "        word_counts[key] = (word_counts[key] if key in word_counts else 0) + value\n",
    "word_counts_sf = graphlab.SFrame({'word': [ k for k, v in word_counts.items()], 'count': [ v for k, v in word_counts.items()] })"
   ]
  },
  {
   "cell_type": "code",
   "execution_count": 82,
   "metadata": {
    "collapsed": false
   },
   "outputs": [
    {
     "name": "stdout",
     "output_type": "stream",
     "text": [
      "+--------+----------+\n",
      "| count  |   word   |\n",
      "+--------+----------+\n",
      "| 642906 |   game   |\n",
      "| 422192 |    i     |\n",
      "| 314040 |   play   |\n",
      "| 146742 |   the    |\n",
      "| 127729 |  player  |\n",
      "| 124575 |   card   |\n",
      "| 111862 |   fun    |\n",
      "| 97415  |   good   |\n",
      "| 86205  |    it    |\n",
      "| 77231  |   rule   |\n",
      "| 71593  |   time   |\n",
      "| 71166  |    a     |\n",
      "| 67582  |  great   |\n",
      "| 64476  |   make   |\n",
      "| 62657  |   this   |\n",
      "| 53904  |   lot    |\n",
      "| 52633  | interest |\n",
      "| 51736  |   nice   |\n",
      "| 42655  |   bit    |\n",
      "| 39660  |   rate   |\n",
      "| 39558  |   don    |\n",
      "| 37955  |  enjoy   |\n",
      "| 37072  |  mechan  |\n",
      "| 36503  |  expans  |\n",
      "| 36256  |   turn   |\n",
      "| 35125  |   love   |\n",
      "| 34914  |  theme   |\n",
      "| 34389  |   feel   |\n",
      "| 32694  |  board   |\n",
      "| 31946  |  simpl   |\n",
      "| 31716  |  point   |\n",
      "| 31564  |   kid    |\n",
      "| 30194  |   not    |\n",
      "| 29980  |   set    |\n",
      "| 29428  |   work   |\n",
      "| 29051  |   dice   |\n",
      "| 28604  |  quick   |\n",
      "| 28176  |   base   |\n",
      "| 27894  |  thing   |\n",
      "| 27604  |   move   |\n",
      "| 26712  | strategi |\n",
      "| 26292  |   add    |\n",
      "| 26024  |   end    |\n",
      "| 25955  |  system  |\n",
      "| 25691  |  pretti  |\n",
      "| 25375  |   easi   |\n",
      "| 25235  |   long   |\n",
      "| 25232  |   luck   |\n",
      "| 24765  | version  |\n",
      "| 24272  |  there   |\n",
      "| 23757  |   bad    |\n",
      "| 23744  |   roll   |\n",
      "| 23704  |  design  |\n",
      "| 23520  |    ve    |\n",
      "| 23378  |   veri   |\n",
      "| 22582  |   win    |\n",
      "| 22200  |  peopl   |\n",
      "| 21594  |  score   |\n",
      "| 21387  |   but    |\n",
      "| 20894  |   map    |\n",
      "| 20818  |    if    |\n",
      "| 20806  |  build   |\n",
      "| 20563  |  random  |\n",
      "| 20418  |   tile   |\n",
      "| 20240  |    de    |\n",
      "| 19695  |  compon  |\n",
      "| 19675  |    my    |\n",
      "| 19251  |  light   |\n",
      "| 18641  |   take   |\n",
      "| 18518  |  doesn   |\n",
      "| 18292  |   you    |\n",
      "| 17701  |   year   |\n",
      "| 17577  |   deck   |\n",
      "| 17338  |   piec   |\n",
      "| 17123  |   find   |\n",
      "| 16827  | scenario |\n",
      "| 16782  |   war    |\n",
      "| 16762  |  action  |\n",
      "| 16708  |  start   |\n",
      "| 16442  |  battl   |\n",
      "| 16364  |  origin  |\n",
      "| 16015  |   give   |\n",
      "| 15889  |  decis   |\n",
      "| 15789  |   fast   |\n",
      "| 15618  |   high   |\n",
      "| 15613  |   star   |\n",
      "| 15570  |   box    |\n",
      "| 15553  |   hand   |\n",
      "| 15339  |   didn   |\n",
      "| 15100  |   idea   |\n",
      "| 14964  |  number  |\n",
      "| 14811  |  filler  |\n",
      "| 14721  |   back   |\n",
      "| 14557  |  group   |\n",
      "| 14531  |  tactic  |\n",
      "| 14423  |   hard   |\n",
      "| 14409  |  learn   |\n",
      "| 14146  | collect  |\n",
      "| 14089  |    ll    |\n",
      "| 13921  |   draw   |\n",
      "+--------+----------+\n",
      "[121928 rows x 2 columns]\n",
      "\n"
     ]
    }
   ],
   "source": [
    "word_counts_sf.sort('count', False).print_rows(100)"
   ]
  },
  {
   "cell_type": "code",
   "execution_count": 132,
   "metadata": {
    "collapsed": false
   },
   "outputs": [],
   "source": [
    "sf['word_count2'] = sf['word_count'].dict_trim_by_keys(word_counts_sf[word_counts_sf['count'] <= 100]['word'])"
   ]
  },
  {
   "cell_type": "code",
   "execution_count": 133,
   "metadata": {
    "collapsed": false
   },
   "outputs": [],
   "source": [
    "data = sf[sf['text'].apply(lambda x: len(x.split()) > 5)]"
   ]
  },
  {
   "cell_type": "code",
   "execution_count": 134,
   "metadata": {
    "collapsed": true
   },
   "outputs": [],
   "source": [
    "train_data, test_data = data.random_split(0.8, seed=0)"
   ]
  },
  {
   "cell_type": "code",
   "execution_count": 135,
   "metadata": {
    "collapsed": false,
    "scrolled": true
   },
   "outputs": [
    {
     "name": "stdout",
     "output_type": "stream",
     "text": [
      "PROGRESS: Logistic regression:\n",
      "PROGRESS: --------------------------------------------------------\n",
      "PROGRESS: Number of examples          : 422308\n",
      "PROGRESS: Number of classes           : 2\n",
      "PROGRESS: Number of feature columns   : 1\n",
      "PROGRESS: Number of unpacked features : 5972\n",
      "PROGRESS: Number of coefficients    : 5973\n",
      "PROGRESS: Starting L-BFGS\n",
      "PROGRESS: --------------------------------------------------------\n",
      "PROGRESS: +-----------+----------+-----------+--------------+-------------------+---------------------+\n",
      "PROGRESS: | Iteration | Passes   | Step size | Elapsed Time | Training-accuracy | Validation-accuracy |\n",
      "PROGRESS: +-----------+----------+-----------+--------------+-------------------+---------------------+\n",
      "PROGRESS: | 1         | 4        | 0.000001  | 0.825107     | 0.842821          | 0.843801            |\n",
      "PROGRESS: | 2         | 8        | 3.000000  | 1.815805     | 0.851942          | 0.853042            |\n",
      "PROGRESS: | 3         | 9        | 3.000000  | 2.213084     | 0.757772          | 0.755896            |\n",
      "PROGRESS: | 4         | 11       | 1.000000  | 2.811506     | 0.860604          | 0.860124            |\n",
      "PROGRESS: | 5         | 12       | 1.000000  | 3.217791     | 0.862712          | 0.861885            |\n",
      "PROGRESS: | 6         | 13       | 1.000000  | 3.621075     | 0.862439          | 0.862131            |\n",
      "PROGRESS: | 10        | 17       | 1.000000  | 5.218199     | 0.864582          | 0.861232            |\n",
      "PROGRESS: +-----------+----------+-----------+--------------+-------------------+---------------------+\n"
     ]
    }
   ],
   "source": [
    "sentiment_model = graphlab.logistic_classifier.create(train_data, \n",
    "                                                      target='sentiment', \n",
    "                                                      features=['word_count2'], \n",
    "                                                      #l1_penalty = 0.1,\n",
    "                                                      #l2_penalty = 0.5,\n",
    "                                                      validation_set=test_data)"
   ]
  },
  {
   "cell_type": "code",
   "execution_count": 116,
   "metadata": {
    "collapsed": false
   },
   "outputs": [
    {
     "name": "stdout",
     "output_type": "stream",
     "text": [
      "+-------------+-------------+-------+----------------+\n",
      "|     name    |    index    | class |     value      |\n",
      "+-------------+-------------+-------+----------------+\n",
      "| word_count2 |    underr   |   1   | 1.46574172625  |\n",
      "| word_count2 |    alway    |   1   | 1.23213042918  |\n",
      "| word_count2 |    superb   |   1   | 1.16945926259  |\n",
      "| word_count2 |    addict   |   1   | 1.16880330575  |\n",
      "| word_count2 |    tricki   |   1   | 1.15123817109  |\n",
      "| word_count2 |    tentat   |   1   | 1.14116540504  |\n",
      "| word_count2 |    excel    |   1   | 1.06810529937  |\n",
      "| word_count2 |     must    |   1   | 1.05153426024  |\n",
      "| word_count2 |   delight   |   1   | 1.04457367841  |\n",
      "| (intercept) |     None    |   1   | 1.02402568372  |\n",
      "| word_count2 |     best    |   1   | 1.01713338549  |\n",
      "| word_count2 |    solid    |   1   | 1.00387211181  |\n",
      "| word_count2 | preliminari |   1   | 0.99970199521  |\n",
      "| word_count2 |     tens    |   1   | 0.988695148881 |\n",
      "| word_count2 |  brilliant  |   1   | 0.987376732032 |\n",
      "| word_count2 |    blast    |   1   | 0.976978271395 |\n",
      "| word_count2 |   favorit   |   1   | 0.967377237511 |\n",
      "| word_count2 |   fantast   |   1   | 0.960934986764 |\n",
      "| word_count2 |    santa    |   1   | 0.956239138847 |\n",
      "| word_count2 |    terrif   |   1   | 0.955822354241 |\n",
      "| word_count2 |   favourit  |   1   | 0.949124732586 |\n",
      "| word_count2 |   outstand  |   1   | 0.931935216957 |\n",
      "| word_count2 |   alreadi   |   1   | 0.930929241976 |\n",
      "| word_count2 |    awesom   |   1   | 0.919916473147 |\n",
      "| word_count2 | nonetheless |   1   | 0.903209057871 |\n",
      "| word_count2 |  cutthroat  |   1   | 0.870768490927 |\n",
      "| word_count2 |     lcg     |   1   | 0.857175895452 |\n",
      "| word_count2 |   drawback  |   1   | 0.839415631331 |\n",
      "| word_count2 |  divertido  |   1   | 0.818533277906 |\n",
      "| word_count2 |    great    |   1   | 0.798037671079 |\n",
      "| word_count2 |   refresh   |   1   | 0.797366260042 |\n",
      "| word_count2 |    genius   |   1   | 0.793235006436 |\n",
      "| word_count2 |   backstab  |   1   | 0.788329173296 |\n",
      "| word_count2 |    https    |   1   | 0.787908430124 |\n",
      "| word_count2 |     quad    |   1   | 0.780135946565 |\n",
      "| word_count2 |   furious   |   1   | 0.771540408831 |\n",
      "| word_count2 |    subtl    |   1   | 0.751080610277 |\n",
      "| word_count2 |   pleasant  |   1   | 0.744170554572 |\n",
      "| word_count2 |     amaz    |   1   | 0.742690899862 |\n",
      "| word_count2 |     feld    |   1   | 0.733374143663 |\n",
      "| word_count2 |    shine    |   1   | 0.73323388849  |\n",
      "| word_count2 |    tough    |   1   | 0.730690131893 |\n",
      "| word_count2 |   alright   |   1   | 0.723035231165 |\n",
      "| word_count2 |     tad     |   1   | 0.718118751528 |\n",
      "| word_count2 |    burner   |   1   | 0.713097933771 |\n",
      "| word_count2 |    promo    |   1   | 0.704271679253 |\n",
      "| word_count2 |   surpris   |   1   | 0.701739098251 |\n",
      "| word_count2 |     love    |   1   | 0.695458642787 |\n",
      "| word_count2 |     alot    |   1   | 0.692488644864 |\n",
      "| word_count2 |    keeper   |   1   | 0.688036146319 |\n",
      "| word_count2 |    tight    |   1   | 0.686009716259 |\n",
      "| word_count2 |  supplement |   1   | 0.685148775053 |\n",
      "| word_count2 |     alik    |   1   | 0.684396059796 |\n",
      "| word_count2 |   perfect   |   1   | 0.677121366615 |\n",
      "| word_count2 |   homemad   |   1   | 0.676632681621 |\n",
      "| word_count2 |     new     |   1   | 0.675597347304 |\n",
      "| word_count2 |    fascin   |   1   | 0.673341388316 |\n",
      "| word_count2 |    hilari   |   1   | 0.672067127525 |\n",
      "| word_count2 |   weekend   |   1   | 0.666529122898 |\n",
      "| word_count2 |    imperi   |   1   | 0.666068159787 |\n",
      "| word_count2 |    brutal   |   1   | 0.665226486857 |\n",
      "| word_count2 |     asl     |   1   | 0.661325797742 |\n",
      "| word_count2 |     deep    |   1   | 0.65887732322  |\n",
      "| word_count2 |     cdg     |   1   | 0.653746989528 |\n",
      "| word_count2 |    sleev    |   1   | 0.648505636308 |\n",
      "| word_count2 |     nice    |   1   | 0.644790181393 |\n",
      "| word_count2 |    wonder   |   1   | 0.642358418334 |\n",
      "| word_count2 |   lighter   |   1   | 0.637199611329 |\n",
      "| word_count2 |     lite    |   1   | 0.636252050248 |\n",
      "| word_count2 |   varieti   |   1   | 0.636197422118 |\n",
      "| word_count2 |     more    |   1   | 0.635405899806 |\n",
      "| word_count2 |    immers   |   1   | 0.63345799029  |\n",
      "| word_count2 |     fun     |   1   | 0.631356221094 |\n",
      "| word_count2 |    deeper   |   1   | 0.628688369159 |\n",
      "| word_count2 |    worri    |   1   | 0.628409010576 |\n",
      "| word_count2 | thunderston |   1   | 0.620338416656 |\n",
      "| word_count2 |    gotta    |   1   | 0.61952783354  |\n",
      "| word_count2 |    fresh    |   1   | 0.616145128974 |\n",
      "| word_count2 |    clever   |   1   | 0.608518118896 |\n",
      "| word_count2 |    newbi    |   1   | 0.607866769478 |\n",
      "| word_count2 |    filler   |   1   | 0.607819384905 |\n",
      "| word_count2 |   downsid   |   1   | 0.607789211417 |\n",
      "| word_count2 |    beauti   |   1   | 0.595843480016 |\n",
      "| word_count2 |     fast    |   1   | 0.593571820284 |\n",
      "| word_count2 |    uniqu    |   1   | 0.592797562924 |\n",
      "| word_count2 |    smooth   |   1   | 0.591596084263 |\n",
      "| word_count2 |   gorgeous  |   1   | 0.590616771835 |\n",
      "| word_count2 |     see     |   1   | 0.590436662337 |\n",
      "| word_count2 |   reprint   |   1   | 0.590081385507 |\n",
      "| word_count2 |    unusu    |   1   | 0.586432192656 |\n",
      "| word_count2 |   portabl   |   1   | 0.582370361488 |\n",
      "| word_count2 |   greatest  |   1   | 0.576043338016 |\n",
      "| word_count2 |  complaint  |   1   | 0.574940983289 |\n",
      "| word_count2 |    twist    |   1   | 0.573785662882 |\n",
      "| word_count2 |     blog    |   1   | 0.571186650139 |\n",
      "| word_count2 |    nasti    |   1   | 0.569131400931 |\n",
      "| word_count2 |   compact   |   1   | 0.566156675989 |\n",
      "| word_count2 |    essen    |   1   | 0.563637950649 |\n",
      "| word_count2 |    addit    |   1   | 0.563566694739 |\n",
      "| word_count2 |    crowd    |   1   | 0.56329661637  |\n",
      "+-------------+-------------+-------+----------------+\n",
      "[2329 rows x 4 columns]\n",
      "\n"
     ]
    }
   ],
   "source": [
    "coefficients = sentiment_model['coefficients']\n",
    "coefficients.sort('value', False).print_rows(100)"
   ]
  },
  {
   "cell_type": "code",
   "execution_count": 91,
   "metadata": {
    "collapsed": false
   },
   "outputs": [
    {
     "data": {
      "text/html": [
       "<div style=\"max-height:1000px;max-width:1500px;overflow:auto;\"><table frame=\"box\" rules=\"cols\">\n",
       "    <tr>\n",
       "        <th style=\"padding-left: 1em; padding-right: 1em; text-align: center\">boardgameid</th>\n",
       "        <th style=\"padding-left: 1em; padding-right: 1em; text-align: center\">count</th>\n",
       "    </tr>\n",
       "    <tr>\n",
       "        <td style=\"padding-left: 1em; padding-right: 1em; text-align: center; vertical-align: top\">22545</td>\n",
       "        <td style=\"padding-left: 1em; padding-right: 1em; text-align: center; vertical-align: top\">84</td>\n",
       "    </tr>\n",
       "    <tr>\n",
       "        <td style=\"padding-left: 1em; padding-right: 1em; text-align: center; vertical-align: top\">142965</td>\n",
       "        <td style=\"padding-left: 1em; padding-right: 1em; text-align: center; vertical-align: top\">84</td>\n",
       "    </tr>\n",
       "    <tr>\n",
       "        <td style=\"padding-left: 1em; padding-right: 1em; text-align: center; vertical-align: top\">7062</td>\n",
       "        <td style=\"padding-left: 1em; padding-right: 1em; text-align: center; vertical-align: top\">82</td>\n",
       "    </tr>\n",
       "    <tr>\n",
       "        <td style=\"padding-left: 1em; padding-right: 1em; text-align: center; vertical-align: top\">13123</td>\n",
       "        <td style=\"padding-left: 1em; padding-right: 1em; text-align: center; vertical-align: top\">82</td>\n",
       "    </tr>\n",
       "    <tr>\n",
       "        <td style=\"padding-left: 1em; padding-right: 1em; text-align: center; vertical-align: top\">96848</td>\n",
       "        <td style=\"padding-left: 1em; padding-right: 1em; text-align: center; vertical-align: top\">82</td>\n",
       "    </tr>\n",
       "    <tr>\n",
       "        <td style=\"padding-left: 1em; padding-right: 1em; text-align: center; vertical-align: top\">14188</td>\n",
       "        <td style=\"padding-left: 1em; padding-right: 1em; text-align: center; vertical-align: top\">82</td>\n",
       "    </tr>\n",
       "    <tr>\n",
       "        <td style=\"padding-left: 1em; padding-right: 1em; text-align: center; vertical-align: top\">37111</td>\n",
       "        <td style=\"padding-left: 1em; padding-right: 1em; text-align: center; vertical-align: top\">82</td>\n",
       "    </tr>\n",
       "    <tr>\n",
       "        <td style=\"padding-left: 1em; padding-right: 1em; text-align: center; vertical-align: top\">19777</td>\n",
       "        <td style=\"padding-left: 1em; padding-right: 1em; text-align: center; vertical-align: top\">82</td>\n",
       "    </tr>\n",
       "    <tr>\n",
       "        <td style=\"padding-left: 1em; padding-right: 1em; text-align: center; vertical-align: top\">22345</td>\n",
       "        <td style=\"padding-left: 1em; padding-right: 1em; text-align: center; vertical-align: top\">81</td>\n",
       "    </tr>\n",
       "    <tr>\n",
       "        <td style=\"padding-left: 1em; padding-right: 1em; text-align: center; vertical-align: top\">34297</td>\n",
       "        <td style=\"padding-left: 1em; padding-right: 1em; text-align: center; vertical-align: top\">81</td>\n",
       "    </tr>\n",
       "</table>\n",
       "[10 rows x 2 columns]<br/>\n",
       "</div>"
      ],
      "text/plain": [
       "Columns:\n",
       "\tboardgameid\tint\n",
       "\tcount\tint\n",
       "\n",
       "Rows: 10\n",
       "\n",
       "Data:\n",
       "+-------------+-------+\n",
       "| boardgameid | count |\n",
       "+-------------+-------+\n",
       "|    22545    |   84  |\n",
       "|    142965   |   84  |\n",
       "|     7062    |   82  |\n",
       "|    13123    |   82  |\n",
       "|    96848    |   82  |\n",
       "|    14188    |   82  |\n",
       "|    37111    |   82  |\n",
       "|    19777    |   82  |\n",
       "|    22345    |   81  |\n",
       "|    34297    |   81  |\n",
       "+-------------+-------+\n",
       "[10 rows x 2 columns]"
      ]
     },
     "execution_count": 91,
     "metadata": {},
     "output_type": "execute_result"
    }
   ],
   "source": [
    "data.groupby(key_columns='boardgameid', operations={ 'count': agg.COUNT() }).topk('count', 10)"
   ]
  },
  {
   "cell_type": "code",
   "execution_count": 92,
   "metadata": {
    "collapsed": false
   },
   "outputs": [],
   "source": [
    "reviews = data[data['boardgameid'] == 22545]"
   ]
  },
  {
   "cell_type": "code",
   "execution_count": 117,
   "metadata": {
    "collapsed": false
   },
   "outputs": [],
   "source": [
    "reviews['p'] = sentiment_model.predict(reviews, output_type='probability')"
   ]
  },
  {
   "cell_type": "code",
   "execution_count": 118,
   "metadata": {
    "collapsed": false
   },
   "outputs": [],
   "source": [
    "reviews = reviews.sort('p', False)"
   ]
  },
  {
   "cell_type": "code",
   "execution_count": 119,
   "metadata": {
    "collapsed": false
   },
   "outputs": [
    {
     "data": {
      "text/plain": [
       "84"
      ]
     },
     "execution_count": 119,
     "metadata": {},
     "output_type": "execute_result"
    }
   ],
   "source": [
    "len(reviews)"
   ]
  },
  {
   "cell_type": "code",
   "execution_count": 120,
   "metadata": {
    "collapsed": false
   },
   "outputs": [
    {
     "data": {
      "text/plain": [
       "<matplotlib.text.Text at 0x55d90748>"
      ]
     },
     "execution_count": 120,
     "metadata": {},
     "output_type": "execute_result"
    },
    {
     "data": {
      "image/png": "[encoded data removed]",
      "text/plain": [
       "<matplotlib.figure.Figure at 0x4ec10588>"
      ]
     },
     "metadata": {},
     "output_type": "display_data"
    }
   ],
   "source": [
    "X = reviews['p']\n",
    "bins = [0,0.2,0.4,0.6,0.8,1.0]\n",
    "plt.hist(X, bins, normed=1, histtype='bar', rwidth=0.8)\n",
    "plt.title('All Reviews')"
   ]
  },
  {
   "cell_type": "code",
   "execution_count": 131,
   "metadata": {
    "collapsed": false
   },
   "outputs": [
    {
     "data": {
      "text/plain": [
       "\"Even though I don't play it as often as I'd like AoE III is always a fantastic experience. It scales well 2-5 players, though is very different for each. It's a Euro, but with the sense of an evolving story; just enough randomness, lots of different strategies to explore, and lots of tough tactical decisions as the slots for worker placement fill up. I love it, and really want to play more often!\\n\\nMy criticisms are to do with the components: a useless scoring track, the necessity of printing some BGG play aids (easily done, that one), and the difficulty of telling the (rather garishly coloured) pieces apart. The game is good enough to overcome these problems, but a new edition where they were fixed would be truly outstanding.\\n\\n...\\n\\nYears on, although I still play fairly infrequently I still love it, really enjoy it every time I play.\""
      ]
     },
     "execution_count": 131,
     "metadata": {},
     "output_type": "execute_result"
    }
   ],
   "source": [
    "reviews[1]['text']"
   ]
  },
  {
   "cell_type": "code",
   "execution_count": null,
   "metadata": {
    "collapsed": false
   },
   "outputs": [],
   "source": []
  },
  {
   "cell_type": "code",
   "execution_count": null,
   "metadata": {
    "collapsed": true
   },
   "outputs": [],
   "source": []
  }
 ],
 "metadata": {
  "kernelspec": {
   "display_name": "Python 2",
   "language": "python",
   "name": "python2"
  },
  "language_info": {
   "codemirror_mode": {
    "name": "ipython",
    "version": 2
   },
   "file_extension": ".py",
   "mimetype": "text/x-python",
   "name": "python",
   "nbconvert_exporter": "python",
   "pygments_lexer": "ipython2",
   "version": "2.7.9"
  }
 },
 "nbformat": 4,
 "nbformat_minor": 0
}
